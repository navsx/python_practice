{
 "cells": [
  {
   "cell_type": "code",
   "execution_count": 1,
   "metadata": {},
   "outputs": [
    {
     "name": "stdout",
     "output_type": "stream",
     "text": [
      "{'Name': ['P1', 'P2'], 'Age': [17, 15]}\n",
      "  Name  Age\n",
      "0   P1   17\n",
      "1   P2   15\n",
      "   Name  Age\n",
      "i1   P1   17\n",
      "i2   P2   15\n"
     ]
    }
   ],
   "source": [
    "#Create a data frame using the dictionary of lists.\n",
    "import pandas as pd1\n",
    "data1 = {'Name':['P1', 'P2'],'Age':[17,15]}\n",
    "print(data1)\n",
    "df1 = pd1.DataFrame(data1)\n",
    "print (df1)\n",
    "df2 = pd1.DataFrame(data1, index=['i1','i2'])\n",
    "print (df2)"
   ]
  },
  {
   "cell_type": "code",
   "execution_count": 6,
   "metadata": {},
   "outputs": [
    {
     "name": "stdout",
     "output_type": "stream",
     "text": [
      "     x  y    z\n",
      "one  1  2  NaN\n",
      "two  5  4  5.0\n"
     ]
    }
   ],
   "source": [
    "#Create a data frame using the List of Dictionary.\n",
    "import pandas as pd1\n",
    "data1 = [{'x': 1, 'y': 2},{'x': 5, 'y': 4, 'z': 5}]\n",
    "df1 = pd1.DataFrame(data1,index=['one','two'])\n",
    "print (df1)"
   ]
  },
  {
   "cell_type": "code",
   "execution_count": 14,
   "metadata": {},
   "outputs": [
    {
     "name": "stdout",
     "output_type": "stream",
     "text": [
      "     x  y    z  w\n",
      "one  1  2  NaN  1\n",
      "two  5  4  5.0  5\n"
     ]
    }
   ],
   "source": [
    "#Adding new column in data frame object\n",
    "import pandas as pd1\n",
    "data1 = [{'x': 1, 'y': 2},{'x': 5, 'y': 4,'z': 5}]\n",
    "df1 = pd1.DataFrame(data1,index=['one','two'])\n",
    "df1.loc[:,'w'] = df1.loc[:,'x']\n",
    "print (df1)"
   ]
  },
  {
   "cell_type": "code",
   "execution_count": 3,
   "metadata": {},
   "outputs": [
    {
     "name": "stdout",
     "output_type": "stream",
     "text": [
      "       x  y    z\n",
      "one  1.0  2  NaN\n",
      "two  5.0  4  5.0\n",
      "         x    y    z\n",
      "one    1.0  2.0  NaN\n",
      "two    5.0  4.0  5.0\n",
      "three  2.0  4.0  NaN\n"
     ]
    }
   ],
   "source": [
    "#Adding new row in data frame object\n",
    "import pandas as pd1\n",
    "data1 = [{'x': 1, 'y': 2},{'x': 5.0, 'y': 4,'z': 5}]\n",
    "df1 = pd1.DataFrame(data1,index=['one','two'])\n",
    "print(df1)\n",
    "df1.loc['three'] = 2*df1.loc['one']\n",
    "print (df1)"
   ]
  },
  {
   "cell_type": "code",
   "execution_count": 21,
   "metadata": {},
   "outputs": [
    {
     "name": "stdout",
     "output_type": "stream",
     "text": [
      "one      NaN\n",
      "two      5.0\n",
      "three    NaN\n",
      "Name: z, dtype: float64\n",
      "         x    y\n",
      "one    1.0  2.0\n",
      "two    5.0  4.0\n",
      "three  2.0  4.0\n"
     ]
    }
   ],
   "source": [
    "#Adding new row in data frame object\n",
    "import pandas as pd1\n",
    "data1 = [{'x': 1, 'y': 2},{'x': 5, 'y': 4,'z': 5}]\n",
    "df1 = pd1.DataFrame(data1,index=['one','two'])\n",
    "df1.loc['three'] = 2*df1.loc['one']\n",
    "print(df1.pop('z'))\n",
    "print (df1)"
   ]
  },
  {
   "cell_type": "code",
   "execution_count": 26,
   "metadata": {},
   "outputs": [
    {
     "name": "stdout",
     "output_type": "stream",
     "text": [
      "Enter a string\n",
      "The fox was not alone\n",
      "T.F.W.N.A.\n"
     ]
    }
   ],
   "source": [
    "str=input(\"Enter a string\\n\")\n",
    "print(''.join(s[0].upper() + '.' for s in str.split()))"
   ]
  },
  {
   "cell_type": "code",
   "execution_count": 13,
   "metadata": {},
   "outputs": [
    {
     "name": "stdout",
     "output_type": "stream",
     "text": [
      "     x  y    z     w\n",
      "one  1  2  NaN   NaN\n",
      "two  5  4  5.0  14.0\n"
     ]
    }
   ],
   "source": [
    "#Adding new column in data frame object Understanding the syntax\n",
    "import pandas as pd1\n",
    "data1 = [{'x': 1, 'y': 2},{'x': 5, 'y': 4,'z': 5}]\n",
    "df1 = pd1.DataFrame(data1,index=['one','two'])\n",
    "df1.loc[:,'w'] = df1['x']+df1['y']+df1['z']\n",
    "print (df1)"
   ]
  },
  {
   "cell_type": "code",
   "execution_count": 20,
   "metadata": {},
   "outputs": [
    {
     "name": "stdout",
     "output_type": "stream",
     "text": [
      "       x   y   z   w\n",
      "one    1   2  71   3\n",
      "two    5   4   5   9\n",
      "three  7  10  15  17\n"
     ]
    }
   ],
   "source": [
    "import pandas as pd1\n",
    "data1 = [{'x': 1, 'y': 2,'z':4},{'x': 5, 'y': 4,'z': 5},{'x': 7, 'y': 10,'z': 15}]\n",
    "df1 = pd1.DataFrame(data1,index=['one','two','three'])\n",
    "df1.loc[:,'w'] = df1['x']+df1['y']\n",
    "df1.iloc[0,2]=71\n",
    "print (df1)\n"
   ]
  },
  {
   "cell_type": "code",
   "execution_count": 2,
   "metadata": {},
   "outputs": [
    {
     "name": "stdout",
     "output_type": "stream",
     "text": [
      "     w  x  y\n",
      "one  1  3  5\n",
      "two  2  4  6\n",
      "     w  x  y   z\n",
      "one  1  3  5   8\n",
      "two  2  4  6  10\n",
      "       w    x    y    z\n",
      "one  102  104  106  110\n",
      "two    2    4    6   10\n"
     ]
    }
   ],
   "source": [
    "import pandas as pd\n",
    "data1 = [{'w': 1, 'x': 3,'y':5},\n",
    "         {'w': 2, 'x': 4,'y': 6}]\n",
    "df1 = pd.DataFrame(data1,index=['one','two'])\n",
    "print(df1)\n",
    "df1.loc[:,'z'] = df1['x']+df1['y']\n",
    "print(df1)\n",
    "df1.iloc[0]=df1.iloc[1]+100\n",
    "print (df1)"
   ]
  },
  {
   "cell_type": "code",
   "execution_count": null,
   "metadata": {},
   "outputs": [],
   "source": [
    "import numpy as np \n",
    "a = np.arange(9, dtype = np.int_).reshape(3,3) \n",
    "\n",
    "print('First array:\\n') \n",
    "print(a)  \n",
    "\n",
    "b = np.array([10,10,10]) \n",
    "print('Second array:\\n') \n",
    "print(b)   \n",
    "\n",
    "print(np.add(a,b))  \n",
    "\n",
    "print 'Subtract the two arrays:' \n",
    "print np.subtract(a,b) \n",
    "print '\\n'  \n",
    "\n",
    "print 'Multiply the two arrays:' \n",
    "print np.multiply(a,b) \n",
    "print '\\n'  \n",
    "\n",
    "print 'Divide the two arrays:' \n",
    "print np.divide(a,b)"
   ]
  }
 ],
 "metadata": {
  "kernelspec": {
   "display_name": "Python 3",
   "language": "python",
   "name": "python3"
  },
  "language_info": {
   "codemirror_mode": {
    "name": "ipython",
    "version": 3
   },
   "file_extension": ".py",
   "mimetype": "text/x-python",
   "name": "python",
   "nbconvert_exporter": "python",
   "pygments_lexer": "ipython3",
   "version": "3.6.5"
  }
 },
 "nbformat": 4,
 "nbformat_minor": 2
}

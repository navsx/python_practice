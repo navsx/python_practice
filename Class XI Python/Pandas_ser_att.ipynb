{
 "cells": [
  {
   "cell_type": "code",
   "execution_count": 4,
   "metadata": {},
   "outputs": [
    {
     "name": "stdout",
     "output_type": "stream",
     "text": [
      "c    3\n",
      "d    4\n",
      "e    5\n",
      "dtype: int64\n"
     ]
    }
   ],
   "source": [
    "import pandas as pd1\n",
    "s = pd1.Series([10,2,3,4,5],index = ['a','b','c','d','e'])\n",
    "#print (s[0])# for 0 index position\n",
    "#print (s[:3]) #for first 3 index values\n",
    "print (s[-3:]) #for last 3 index values"
   ]
  },
  {
   "cell_type": "code",
   "execution_count": 5,
   "metadata": {},
   "outputs": [
    {
     "name": "stdout",
     "output_type": "stream",
     "text": [
      "c    3\n",
      "d    4\n",
      "dtype: int64\n"
     ]
    }
   ],
   "source": [
    "import pandas as pd1\n",
    "s = pd1.Series([1,2,3,4,5],index = ['a','b','c','d','e'])\n",
    "print (s[['c','d']])"
   ]
  },
  {
   "cell_type": "code",
   "execution_count": 6,
   "metadata": {},
   "outputs": [
    {
     "name": "stdout",
     "output_type": "stream",
     "text": [
      "e    5\n",
      "dtype: int64\n"
     ]
    }
   ],
   "source": [
    "import pandas as pd1\n",
    "s = pd1.Series([1,2,3,4,5],index = ['a','b','c','d','e'])\n",
    "print (s.tail(1))"
   ]
  },
  {
   "cell_type": "code",
   "execution_count": 1,
   "metadata": {},
   "outputs": [
    {
     "name": "stdout",
     "output_type": "stream",
     "text": [
      "A.F.A.I.K.\n"
     ]
    }
   ],
   "source": [
    "print(''.join(s[0].upper() + '.' for s in \"as far as i know\".split()))"
   ]
  },
  {
   "cell_type": "code",
   "execution_count": 2,
   "metadata": {},
   "outputs": [
    {
     "name": "stdout",
     "output_type": "stream",
     "text": [
      "<class 'list'>\n"
     ]
    }
   ],
   "source": [
    "data=[[1,2],[3,4]]\n",
    "print(type(data))"
   ]
  },
  {
   "cell_type": "code",
   "execution_count": 3,
   "metadata": {},
   "outputs": [
    {
     "data": {
      "text/plain": [
       "<matplotlib.image.AxesImage at 0xb14e22048>"
      ]
     },
     "execution_count": 3,
     "metadata": {},
     "output_type": "execute_result"
    }
   ],
   "source": [
    "from scipy import misc\n",
    "import pylab as plt\n",
    "face = misc.face(gray=True)\n",
    "plt.imshow(face)"
   ]
  },
  {
   "cell_type": "code",
   "execution_count": 13,
   "metadata": {},
   "outputs": [
    {
     "name": "stdout",
     "output_type": "stream",
     "text": [
      "23.571428571428573\n",
      "165\n"
     ]
    }
   ],
   "source": [
    "import pandas as pd\n",
    "import numpy as np\n",
    "obj1=pd.Series([20,22,24,26,20,25,28])\n",
    "obj2=pd.Series([27,29,28,26,27,22,20])\n",
    "obj3=pd.Series([22,25,26,21,29,24,28])\n",
    "obj4=pd.Series([30,29,32,26,27,32,29])\n",
    "#print(obj1)\n",
    "#print(obj2)\n",
    "#print(obj3)\n",
    "#print(obj4)\n",
    "sum2=0\n",
    "for i in obj1:\n",
    "    sum2=sum2+i\n",
    "print(sum2/7)\n",
    "\n",
    "sum1=np.sum(obj1)\n",
    "print(sum1)"
   ]
  },
  {
   "cell_type": "code",
   "execution_count": 16,
   "metadata": {},
   "outputs": [
    {
     "name": "stdout",
     "output_type": "stream",
     "text": [
      "[[ 0  1  2  3]\n",
      " [ 4  5  6  7]\n",
      " [ 8  9 10 11]\n",
      " [12 13 14 15]]\n"
     ]
    }
   ],
   "source": [
    "import numpy as np\n",
    "b=np.arange(16).reshape(4,4)\n",
    "print(b)\n",
    "#b.reshape(4,4)\n",
    "#print(b)\n",
    "a = np.arange(25).reshape(5, 5)\n",
    "#print(a)"
   ]
  },
  {
   "cell_type": "code",
   "execution_count": null,
   "metadata": {},
   "outputs": [],
   "source": []
  }
 ],
 "metadata": {
  "kernelspec": {
   "display_name": "Python 3",
   "language": "python",
   "name": "python3"
  },
  "language_info": {
   "codemirror_mode": {
    "name": "ipython",
    "version": 3
   },
   "file_extension": ".py",
   "mimetype": "text/x-python",
   "name": "python",
   "nbconvert_exporter": "python",
   "pygments_lexer": "ipython3",
   "version": "3.6.5"
  }
 },
 "nbformat": 4,
 "nbformat_minor": 2
}

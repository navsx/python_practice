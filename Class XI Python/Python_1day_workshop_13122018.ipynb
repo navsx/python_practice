{
 "cells": [
  {
   "cell_type": "code",
   "execution_count": 4,
   "metadata": {},
   "outputs": [
    {
     "name": "stdout",
     "output_type": "stream",
     "text": [
      "Enter the marks\n",
      "45\n",
      "45\n"
     ]
    }
   ],
   "source": [
    "mrk=input(\"Enter the marks\\n\")\n",
    "score=int(mrk)if mrk!='AA' else 0\n",
    "\n",
    "print(score)"
   ]
  },
  {
   "cell_type": "code",
   "execution_count": 8,
   "metadata": {},
   "outputs": [
    {
     "name": "stdout",
     "output_type": "stream",
     "text": [
      "How many elements you want to print?12\n",
      "1 1 \n",
      "2 3 5 8 13 21 34 55 89 144 \n"
     ]
    }
   ],
   "source": [
    "a,b=0,1\n",
    "t=int(input(\"How many elements you want to print?\"))\n",
    "while(t!=0):\n",
    "    print(b,end=\" \")\n",
    "    #next=a+b\n",
    "    a,b=b,a+b\n",
    "    #b=next\n",
    "    t=t-1\n",
    "    if(t%10==0):\n",
    "        print()"
   ]
  },
  {
   "cell_type": "code",
   "execution_count": null,
   "metadata": {},
   "outputs": [],
   "source": []
  }
 ],
 "metadata": {
  "kernelspec": {
   "display_name": "Python 3",
   "language": "python",
   "name": "python3"
  },
  "language_info": {
   "codemirror_mode": {
    "name": "ipython",
    "version": 3
   },
   "file_extension": ".py",
   "mimetype": "text/x-python",
   "name": "python",
   "nbconvert_exporter": "python",
   "pygments_lexer": "ipython3",
   "version": "3.6.5"
  }
 },
 "nbformat": 4,
 "nbformat_minor": 2
}

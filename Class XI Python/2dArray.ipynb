{
 "cells": [
  {
   "cell_type": "code",
   "execution_count": 6,
   "metadata": {},
   "outputs": [
    {
     "name": "stdout",
     "output_type": "stream",
     "text": [
      "Enter any number\n",
      "5\n",
      "[[0 0 0 0]\n",
      " [0 0 0 0]\n",
      " [0 0 0 0]]\n",
      "[[ 5  6  7  8]\n",
      " [10 11 12 13]\n",
      " [15 16 17 18]]\n"
     ]
    }
   ],
   "source": [
    "#creating numpy array with custom values and pattern\n",
    "import numpy as np\n",
    "num=int(input(\"Enter any number\\n\"))\n",
    "arr1=np.zeros((3,4),dtype=np.int8)\n",
    "print(arr1)\n",
    "for i in range(3):\n",
    "    temp=(i+1)*num\n",
    "    for j in range(4):\n",
    "        arr1[i][j]=temp\n",
    "        temp=temp+1\n",
    "print(arr1)"
   ]
  },
  {
   "cell_type": "code",
   "execution_count": 10,
   "metadata": {},
   "outputs": [
    {
     "name": "stdout",
     "output_type": "stream",
     "text": [
      "x    2.0\n",
      "y    4.0\n",
      "z    NaN\n",
      "Name: three, dtype: float64\n"
     ]
    }
   ],
   "source": [
    "#Selection by integer location\n",
    "import pandas as pd1\n",
    "import pandas as pd1\n",
    "data1 = [{'x': 1, 'y': 2},{'x': 5, 'y': 4,'z': 5}]\n",
    "df1 = pd1.DataFrame(data1,index=['one','two'])\n",
    "df1.loc['three'] = 2*df1.loc['one']\n",
    "print (df1.iloc[2])"
   ]
  },
  {
   "cell_type": "code",
   "execution_count": 11,
   "metadata": {},
   "outputs": [
    {
     "name": "stdout",
     "output_type": "stream",
     "text": [
      "   age firstName  lastName\n",
      "0   26     Rahul     Anand\n",
      "1   25   Sandeep  Kulkarni\n",
      "2   32    Daniel   Charles\n",
      "*********\n",
      "Data at index 0\n",
      "age             26\n",
      "firstName    Rahul\n",
      "lastName     Anand\n",
      "Name: 0, dtype: object\n",
      "Data at index 1\n",
      "age                25\n",
      "firstName     Sandeep\n",
      "lastName     Kulkarni\n",
      "Name: 1, dtype: object\n",
      "Data at index 2\n",
      "age               32\n",
      "firstName     Daniel\n",
      "lastName     Charles\n",
      "Name: 2, dtype: object\n",
      "*********\n",
      "\n",
      "*** FirstName ***\n",
      "25\n",
      "Sandeep\n",
      "Kulkarni\n"
     ]
    }
   ],
   "source": [
    "from pandas import DataFrame\n",
    "employees = [{'firstName': 'Rahul', 'lastName': 'Anand', 'age':26},\n",
    "                 {'firstName': 'Sandeep', 'lastName': 'Kulkarni', 'age':25},\n",
    "                 {'firstName': 'Daniel', 'lastName': 'Charles', 'age':32}]\n",
    "df = DataFrame(employees);\n",
    "print(df)\n",
    "print('*********')\n",
    "    \n",
    "#iterate all rows\n",
    "for index, row in df.iterrows() :\n",
    "    print('Data at index', index)\n",
    "    print(row)\n",
    "    \n",
    "print('*********')\n",
    "\n",
    "#get specific column(firstName)\n",
    "print('\\n*** FirstName ***')\n",
    "for index, row in df.iteritems() :\n",
    "    print(row[1])"
   ]
  },
  {
   "cell_type": "code",
   "execution_count": 13,
   "metadata": {},
   "outputs": [
    {
     "name": "stdout",
     "output_type": "stream",
     "text": [
      "0      Rahul\n",
      "1    Sandeep\n",
      "2     Daniel\n",
      "Name: firstName, dtype: object\n"
     ]
    }
   ],
   "source": [
    "from pandas import DataFrame\n",
    "employees = [{'firstName': 'Rahul', 'lastName': 'Anand', 'age':26},\n",
    "                 {'firstName': 'Sandeep', 'lastName': 'Kulkarni', 'age':25},\n",
    "                 {'firstName': 'Daniel', 'lastName': 'Charles', 'age':32}]\n",
    "df = DataFrame(employees);\n",
    "print(df.firstName)"
   ]
  },
  {
   "cell_type": "code",
   "execution_count": null,
   "metadata": {},
   "outputs": [],
   "source": []
  }
 ],
 "metadata": {
  "kernelspec": {
   "display_name": "Python 3",
   "language": "python",
   "name": "python3"
  },
  "language_info": {
   "codemirror_mode": {
    "name": "ipython",
    "version": 3
   },
   "file_extension": ".py",
   "mimetype": "text/x-python",
   "name": "python",
   "nbconvert_exporter": "python",
   "pygments_lexer": "ipython3",
   "version": "3.6.5"
  }
 },
 "nbformat": 4,
 "nbformat_minor": 2
}
